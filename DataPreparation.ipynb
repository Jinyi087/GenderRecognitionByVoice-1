{
 "cells": [
  {
   "cell_type": "markdown",
   "source": [
    "# Data Preparation"
   ],
   "metadata": {
    "collapsed": false
   }
  },
  {
   "cell_type": "markdown",
   "source": [
    "## Understanding the data\n",
    "\n",
    "The following acoustic properties of each voice are measured and included within the CSV:\n",
    "\n",
    "* `meanfreq`: mean frequency (in kHz)\n",
    "* `sd`: standard deviation of frequency\n",
    "* `median`: median frequency (in kHz)\n",
    "* `Q25`: first quantile (in kHz)\n",
    "* `Q75`: third quantile (in kHz)\n",
    "* `IQR`: inter-quantile range (in kHz)\n",
    "* `skew`: skewness\n",
    "* `kurt`: kurtosis\n",
    "* `sp.ent`: spectral entropy\n",
    "* `sfm`: spectral flatness\n",
    "* `mode`: mode frequency\n",
    "* `centroid`: frequency centroid (see `specprop`)\n",
    "* `peakf`: peak frequency (frequency with the highest energy)\n",
    "* `meanfun`: average of fundamental frequency measured across acoustic signal\n",
    "* `minfun`: minimum fundamental frequency measured across acoustic signal\n",
    "* `maxfun`: maximum fundamental frequency measured across acoustic signal\n",
    "* `meandom`: average of dominant frequency measured across acoustic signal\n",
    "* `mindom`: minimum of dominant frequency measured across acoustic signal\n",
    "* `maxdom`: maximum of dominant frequency measured across acoustic signal\n",
    "* `dfrange`: range of dominant frequency measured across acoustic signal\n",
    "* `modindx`: modulation index. Calculated as the accumulated absolute difference between adjacent measurements of fundamental frequencies divided by the frequency range\n",
    "label: male or female\n",
    "\n",
    "### Skewness and Kurtosis\n",
    "\n",
    "For skewness $S$ and kurtosis $K$, we have the formula:\n",
    "$$\n",
    "\\begin{aligned}\n",
    "S &= \\frac{1}{n - 1}\\cdot\\frac{\\sum_{i=1}^n{\\left(x - \\overline{x}\\right)^3}}{\\sigma^3}\\\\\n",
    "K &= \\frac{1}{n - 1}\\cdot\\frac{\\sum_{i=1}^n{\\left(x - \\overline{x}\\right)^4}}{\\sigma^4}\n",
    "\\end{aligned}\n",
    "$$\n",
    "Where $n$ is the number of observations, $\\overline{x}$ is the mean, and $\\sigma$ is the standard deviation.\n",
    "\n",
    "- $S < 0$ when the spectrum is skewed to left,\n",
    "- $S = 0$ when the spectrum is symetric,\n",
    "- $S > 0$ when the spectrum is skewed to right.\n",
    "\n",
    "Spectrum asymmetry increases with $|S|$.\n",
    "\n",
    "- $K < 3$ when the spectrum is platikurtic, i.e. it has fewer items at the center and at the tails than the normal curve but has more items in the shoulders,\n",
    "- $K = 3$ when the spectrum shows a normal shape,\n",
    "- $K > 3$ when the spectrum is leptokurtic, i.e. it has more items near the center and at the tails, with fewer items in the shoulders relative to normal distribution with the same mean and variance.\n",
    "\n",
    "### Flatness\n",
    "\n",
    "The spectral flatness is a measure of the spectral shape of a signal. It is defined as the ratio of the geometric mean to the arithmetic mean of the signal's power spectrum:\n",
    "$$\n",
    "F = \\frac{\\sqrt[n]{\\prod_{i=1}^n{p_i}}}{\\frac{1}{n}\\sum_{i=1}^n{p_i}}\n",
    "$$\n",
    "where $n$ is the number of frequency bins, $p_i$ is the power in the $i$-th frequency bin, and $F$ is the spectral flatness.\n",
    "\n",
    "The greater $F$ is, the more flat the spectrum is."
   ],
   "metadata": {
    "collapsed": false
   }
  },
  {
   "cell_type": "markdown",
   "source": [
    "## Reference\n",
    "\n",
    "* [Data Set from Kaggle](https://www.kaggle.com/datasets/primaryobjects/voicegender)\n",
    "* [Skewness and Kurtosis](https://cran.r-project.org/web/packages/seewave/seewave.pdf)"
   ],
   "metadata": {
    "collapsed": false
   }
  }
 ],
 "metadata": {
  "kernelspec": {
   "display_name": "Python 3",
   "language": "python",
   "name": "python3"
  },
  "language_info": {
   "codemirror_mode": {
    "name": "ipython",
    "version": 2
   },
   "file_extension": ".py",
   "mimetype": "text/x-python",
   "name": "python",
   "nbconvert_exporter": "python",
   "pygments_lexer": "ipython2",
   "version": "2.7.6"
  }
 },
 "nbformat": 4,
 "nbformat_minor": 0
}
