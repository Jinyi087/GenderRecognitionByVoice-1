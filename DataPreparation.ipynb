{
 "cells": [
  {
   "cell_type": "markdown",
   "source": [
    "# Data Preparation"
   ],
   "metadata": {
    "collapsed": false
   }
  },
  {
   "cell_type": "markdown",
   "source": [
    "## Importing the data"
   ],
   "metadata": {
    "collapsed": false
   }
  },
  {
   "cell_type": "code",
   "execution_count": 11,
   "outputs": [],
   "source": [
    "import pandas as pd"
   ],
   "metadata": {
    "collapsed": false
   }
  },
  {
   "cell_type": "code",
   "execution_count": 12,
   "outputs": [
    {
     "data": {
      "text/plain": "   meanfreq        sd    median       Q25       Q75       IQR       skew  \\\n0  0.059781  0.064241  0.032027  0.015071  0.090193  0.075122  12.863462   \n1  0.066009  0.067310  0.040229  0.019414  0.092666  0.073252  22.423285   \n2  0.077316  0.083829  0.036718  0.008701  0.131908  0.123207  30.757155   \n3  0.151228  0.072111  0.158011  0.096582  0.207955  0.111374   1.232831   \n4  0.135120  0.079146  0.124656  0.078720  0.206045  0.127325   1.101174   \n\n          kurt    sp.ent       sfm  ...  centroid   meanfun    minfun  \\\n0   274.402906  0.893369  0.491918  ...  0.059781  0.084279  0.015702   \n1   634.613855  0.892193  0.513724  ...  0.066009  0.107937  0.015826   \n2  1024.927705  0.846389  0.478905  ...  0.077316  0.098706  0.015656   \n3     4.177296  0.963322  0.727232  ...  0.151228  0.088965  0.017798   \n4     4.333713  0.971955  0.783568  ...  0.135120  0.106398  0.016931   \n\n     maxfun   meandom    mindom    maxdom   dfrange   modindx  label  \n0  0.275862  0.007812  0.007812  0.007812  0.000000  0.000000   male  \n1  0.250000  0.009014  0.007812  0.054688  0.046875  0.052632   male  \n2  0.271186  0.007990  0.007812  0.015625  0.007812  0.046512   male  \n3  0.250000  0.201497  0.007812  0.562500  0.554688  0.247119   male  \n4  0.266667  0.712812  0.007812  5.484375  5.476562  0.208274   male  \n\n[5 rows x 21 columns]",
      "text/html": "<div>\n<style scoped>\n    .dataframe tbody tr th:only-of-type {\n        vertical-align: middle;\n    }\n\n    .dataframe tbody tr th {\n        vertical-align: top;\n    }\n\n    .dataframe thead th {\n        text-align: right;\n    }\n</style>\n<table border=\"1\" class=\"dataframe\">\n  <thead>\n    <tr style=\"text-align: right;\">\n      <th></th>\n      <th>meanfreq</th>\n      <th>sd</th>\n      <th>median</th>\n      <th>Q25</th>\n      <th>Q75</th>\n      <th>IQR</th>\n      <th>skew</th>\n      <th>kurt</th>\n      <th>sp.ent</th>\n      <th>sfm</th>\n      <th>...</th>\n      <th>centroid</th>\n      <th>meanfun</th>\n      <th>minfun</th>\n      <th>maxfun</th>\n      <th>meandom</th>\n      <th>mindom</th>\n      <th>maxdom</th>\n      <th>dfrange</th>\n      <th>modindx</th>\n      <th>label</th>\n    </tr>\n  </thead>\n  <tbody>\n    <tr>\n      <th>0</th>\n      <td>0.059781</td>\n      <td>0.064241</td>\n      <td>0.032027</td>\n      <td>0.015071</td>\n      <td>0.090193</td>\n      <td>0.075122</td>\n      <td>12.863462</td>\n      <td>274.402906</td>\n      <td>0.893369</td>\n      <td>0.491918</td>\n      <td>...</td>\n      <td>0.059781</td>\n      <td>0.084279</td>\n      <td>0.015702</td>\n      <td>0.275862</td>\n      <td>0.007812</td>\n      <td>0.007812</td>\n      <td>0.007812</td>\n      <td>0.000000</td>\n      <td>0.000000</td>\n      <td>male</td>\n    </tr>\n    <tr>\n      <th>1</th>\n      <td>0.066009</td>\n      <td>0.067310</td>\n      <td>0.040229</td>\n      <td>0.019414</td>\n      <td>0.092666</td>\n      <td>0.073252</td>\n      <td>22.423285</td>\n      <td>634.613855</td>\n      <td>0.892193</td>\n      <td>0.513724</td>\n      <td>...</td>\n      <td>0.066009</td>\n      <td>0.107937</td>\n      <td>0.015826</td>\n      <td>0.250000</td>\n      <td>0.009014</td>\n      <td>0.007812</td>\n      <td>0.054688</td>\n      <td>0.046875</td>\n      <td>0.052632</td>\n      <td>male</td>\n    </tr>\n    <tr>\n      <th>2</th>\n      <td>0.077316</td>\n      <td>0.083829</td>\n      <td>0.036718</td>\n      <td>0.008701</td>\n      <td>0.131908</td>\n      <td>0.123207</td>\n      <td>30.757155</td>\n      <td>1024.927705</td>\n      <td>0.846389</td>\n      <td>0.478905</td>\n      <td>...</td>\n      <td>0.077316</td>\n      <td>0.098706</td>\n      <td>0.015656</td>\n      <td>0.271186</td>\n      <td>0.007990</td>\n      <td>0.007812</td>\n      <td>0.015625</td>\n      <td>0.007812</td>\n      <td>0.046512</td>\n      <td>male</td>\n    </tr>\n    <tr>\n      <th>3</th>\n      <td>0.151228</td>\n      <td>0.072111</td>\n      <td>0.158011</td>\n      <td>0.096582</td>\n      <td>0.207955</td>\n      <td>0.111374</td>\n      <td>1.232831</td>\n      <td>4.177296</td>\n      <td>0.963322</td>\n      <td>0.727232</td>\n      <td>...</td>\n      <td>0.151228</td>\n      <td>0.088965</td>\n      <td>0.017798</td>\n      <td>0.250000</td>\n      <td>0.201497</td>\n      <td>0.007812</td>\n      <td>0.562500</td>\n      <td>0.554688</td>\n      <td>0.247119</td>\n      <td>male</td>\n    </tr>\n    <tr>\n      <th>4</th>\n      <td>0.135120</td>\n      <td>0.079146</td>\n      <td>0.124656</td>\n      <td>0.078720</td>\n      <td>0.206045</td>\n      <td>0.127325</td>\n      <td>1.101174</td>\n      <td>4.333713</td>\n      <td>0.971955</td>\n      <td>0.783568</td>\n      <td>...</td>\n      <td>0.135120</td>\n      <td>0.106398</td>\n      <td>0.016931</td>\n      <td>0.266667</td>\n      <td>0.712812</td>\n      <td>0.007812</td>\n      <td>5.484375</td>\n      <td>5.476562</td>\n      <td>0.208274</td>\n      <td>male</td>\n    </tr>\n  </tbody>\n</table>\n<p>5 rows × 21 columns</p>\n</div>"
     },
     "execution_count": 12,
     "metadata": {},
     "output_type": "execute_result"
    }
   ],
   "source": [
    "voice_data = pd.read_csv('data/origin/voice.csv')\n",
    "voice_data.head()"
   ],
   "metadata": {
    "collapsed": false
   }
  },
  {
   "cell_type": "code",
   "execution_count": 13,
   "outputs": [
    {
     "name": "stdout",
     "output_type": "stream",
     "text": [
      "<class 'pandas.core.frame.DataFrame'>\n",
      "RangeIndex: 3168 entries, 0 to 3167\n",
      "Data columns (total 21 columns):\n",
      " #   Column    Non-Null Count  Dtype  \n",
      "---  ------    --------------  -----  \n",
      " 0   meanfreq  3168 non-null   float64\n",
      " 1   sd        3168 non-null   float64\n",
      " 2   median    3168 non-null   float64\n",
      " 3   Q25       3168 non-null   float64\n",
      " 4   Q75       3168 non-null   float64\n",
      " 5   IQR       3168 non-null   float64\n",
      " 6   skew      3168 non-null   float64\n",
      " 7   kurt      3168 non-null   float64\n",
      " 8   sp.ent    3168 non-null   float64\n",
      " 9   sfm       3168 non-null   float64\n",
      " 10  mode      3168 non-null   float64\n",
      " 11  centroid  3168 non-null   float64\n",
      " 12  meanfun   3168 non-null   float64\n",
      " 13  minfun    3168 non-null   float64\n",
      " 14  maxfun    3168 non-null   float64\n",
      " 15  meandom   3168 non-null   float64\n",
      " 16  mindom    3168 non-null   float64\n",
      " 17  maxdom    3168 non-null   float64\n",
      " 18  dfrange   3168 non-null   float64\n",
      " 19  modindx   3168 non-null   float64\n",
      " 20  label     3168 non-null   object \n",
      "dtypes: float64(20), object(1)\n",
      "memory usage: 519.9+ KB\n"
     ]
    }
   ],
   "source": [
    "voice_data.info()"
   ],
   "metadata": {
    "collapsed": false
   }
  },
  {
   "cell_type": "code",
   "execution_count": 14,
   "outputs": [
    {
     "data": {
      "text/plain": "          meanfreq           sd       median          Q25          Q75  \\\ncount  3168.000000  3168.000000  3168.000000  3168.000000  3168.000000   \nmean      0.180907     0.057126     0.185621     0.140456     0.224765   \nstd       0.029918     0.016652     0.036360     0.048680     0.023639   \nmin       0.039363     0.018363     0.010975     0.000229     0.042946   \n25%       0.163662     0.041954     0.169593     0.111087     0.208747   \n50%       0.184838     0.059155     0.190032     0.140286     0.225684   \n75%       0.199146     0.067020     0.210618     0.175939     0.243660   \nmax       0.251124     0.115273     0.261224     0.247347     0.273469   \n\n               IQR         skew         kurt       sp.ent          sfm  \\\ncount  3168.000000  3168.000000  3168.000000  3168.000000  3168.000000   \nmean      0.084309     3.140168    36.568461     0.895127     0.408216   \nstd       0.042783     4.240529   134.928661     0.044980     0.177521   \nmin       0.014558     0.141735     2.068455     0.738651     0.036876   \n25%       0.042560     1.649569     5.669547     0.861811     0.258041   \n50%       0.094280     2.197101     8.318463     0.901767     0.396335   \n75%       0.114175     2.931694    13.648905     0.928713     0.533676   \nmax       0.252225    34.725453  1309.612887     0.981997     0.842936   \n\n              mode     centroid      meanfun       minfun       maxfun  \\\ncount  3168.000000  3168.000000  3168.000000  3168.000000  3168.000000   \nmean      0.165282     0.180907     0.142807     0.036802     0.258842   \nstd       0.077203     0.029918     0.032304     0.019220     0.030077   \nmin       0.000000     0.039363     0.055565     0.009775     0.103093   \n25%       0.118016     0.163662     0.116998     0.018223     0.253968   \n50%       0.186599     0.184838     0.140519     0.046110     0.271186   \n75%       0.221104     0.199146     0.169581     0.047904     0.277457   \nmax       0.280000     0.251124     0.237636     0.204082     0.279114   \n\n           meandom       mindom       maxdom      dfrange      modindx  \ncount  3168.000000  3168.000000  3168.000000  3168.000000  3168.000000  \nmean      0.829211     0.052647     5.047277     4.994630     0.173752  \nstd       0.525205     0.063299     3.521157     3.520039     0.119454  \nmin       0.007812     0.004883     0.007812     0.000000     0.000000  \n25%       0.419828     0.007812     2.070312     2.044922     0.099766  \n50%       0.765795     0.023438     4.992188     4.945312     0.139357  \n75%       1.177166     0.070312     7.007812     6.992188     0.209183  \nmax       2.957682     0.458984    21.867188    21.843750     0.932374  ",
      "text/html": "<div>\n<style scoped>\n    .dataframe tbody tr th:only-of-type {\n        vertical-align: middle;\n    }\n\n    .dataframe tbody tr th {\n        vertical-align: top;\n    }\n\n    .dataframe thead th {\n        text-align: right;\n    }\n</style>\n<table border=\"1\" class=\"dataframe\">\n  <thead>\n    <tr style=\"text-align: right;\">\n      <th></th>\n      <th>meanfreq</th>\n      <th>sd</th>\n      <th>median</th>\n      <th>Q25</th>\n      <th>Q75</th>\n      <th>IQR</th>\n      <th>skew</th>\n      <th>kurt</th>\n      <th>sp.ent</th>\n      <th>sfm</th>\n      <th>mode</th>\n      <th>centroid</th>\n      <th>meanfun</th>\n      <th>minfun</th>\n      <th>maxfun</th>\n      <th>meandom</th>\n      <th>mindom</th>\n      <th>maxdom</th>\n      <th>dfrange</th>\n      <th>modindx</th>\n    </tr>\n  </thead>\n  <tbody>\n    <tr>\n      <th>count</th>\n      <td>3168.000000</td>\n      <td>3168.000000</td>\n      <td>3168.000000</td>\n      <td>3168.000000</td>\n      <td>3168.000000</td>\n      <td>3168.000000</td>\n      <td>3168.000000</td>\n      <td>3168.000000</td>\n      <td>3168.000000</td>\n      <td>3168.000000</td>\n      <td>3168.000000</td>\n      <td>3168.000000</td>\n      <td>3168.000000</td>\n      <td>3168.000000</td>\n      <td>3168.000000</td>\n      <td>3168.000000</td>\n      <td>3168.000000</td>\n      <td>3168.000000</td>\n      <td>3168.000000</td>\n      <td>3168.000000</td>\n    </tr>\n    <tr>\n      <th>mean</th>\n      <td>0.180907</td>\n      <td>0.057126</td>\n      <td>0.185621</td>\n      <td>0.140456</td>\n      <td>0.224765</td>\n      <td>0.084309</td>\n      <td>3.140168</td>\n      <td>36.568461</td>\n      <td>0.895127</td>\n      <td>0.408216</td>\n      <td>0.165282</td>\n      <td>0.180907</td>\n      <td>0.142807</td>\n      <td>0.036802</td>\n      <td>0.258842</td>\n      <td>0.829211</td>\n      <td>0.052647</td>\n      <td>5.047277</td>\n      <td>4.994630</td>\n      <td>0.173752</td>\n    </tr>\n    <tr>\n      <th>std</th>\n      <td>0.029918</td>\n      <td>0.016652</td>\n      <td>0.036360</td>\n      <td>0.048680</td>\n      <td>0.023639</td>\n      <td>0.042783</td>\n      <td>4.240529</td>\n      <td>134.928661</td>\n      <td>0.044980</td>\n      <td>0.177521</td>\n      <td>0.077203</td>\n      <td>0.029918</td>\n      <td>0.032304</td>\n      <td>0.019220</td>\n      <td>0.030077</td>\n      <td>0.525205</td>\n      <td>0.063299</td>\n      <td>3.521157</td>\n      <td>3.520039</td>\n      <td>0.119454</td>\n    </tr>\n    <tr>\n      <th>min</th>\n      <td>0.039363</td>\n      <td>0.018363</td>\n      <td>0.010975</td>\n      <td>0.000229</td>\n      <td>0.042946</td>\n      <td>0.014558</td>\n      <td>0.141735</td>\n      <td>2.068455</td>\n      <td>0.738651</td>\n      <td>0.036876</td>\n      <td>0.000000</td>\n      <td>0.039363</td>\n      <td>0.055565</td>\n      <td>0.009775</td>\n      <td>0.103093</td>\n      <td>0.007812</td>\n      <td>0.004883</td>\n      <td>0.007812</td>\n      <td>0.000000</td>\n      <td>0.000000</td>\n    </tr>\n    <tr>\n      <th>25%</th>\n      <td>0.163662</td>\n      <td>0.041954</td>\n      <td>0.169593</td>\n      <td>0.111087</td>\n      <td>0.208747</td>\n      <td>0.042560</td>\n      <td>1.649569</td>\n      <td>5.669547</td>\n      <td>0.861811</td>\n      <td>0.258041</td>\n      <td>0.118016</td>\n      <td>0.163662</td>\n      <td>0.116998</td>\n      <td>0.018223</td>\n      <td>0.253968</td>\n      <td>0.419828</td>\n      <td>0.007812</td>\n      <td>2.070312</td>\n      <td>2.044922</td>\n      <td>0.099766</td>\n    </tr>\n    <tr>\n      <th>50%</th>\n      <td>0.184838</td>\n      <td>0.059155</td>\n      <td>0.190032</td>\n      <td>0.140286</td>\n      <td>0.225684</td>\n      <td>0.094280</td>\n      <td>2.197101</td>\n      <td>8.318463</td>\n      <td>0.901767</td>\n      <td>0.396335</td>\n      <td>0.186599</td>\n      <td>0.184838</td>\n      <td>0.140519</td>\n      <td>0.046110</td>\n      <td>0.271186</td>\n      <td>0.765795</td>\n      <td>0.023438</td>\n      <td>4.992188</td>\n      <td>4.945312</td>\n      <td>0.139357</td>\n    </tr>\n    <tr>\n      <th>75%</th>\n      <td>0.199146</td>\n      <td>0.067020</td>\n      <td>0.210618</td>\n      <td>0.175939</td>\n      <td>0.243660</td>\n      <td>0.114175</td>\n      <td>2.931694</td>\n      <td>13.648905</td>\n      <td>0.928713</td>\n      <td>0.533676</td>\n      <td>0.221104</td>\n      <td>0.199146</td>\n      <td>0.169581</td>\n      <td>0.047904</td>\n      <td>0.277457</td>\n      <td>1.177166</td>\n      <td>0.070312</td>\n      <td>7.007812</td>\n      <td>6.992188</td>\n      <td>0.209183</td>\n    </tr>\n    <tr>\n      <th>max</th>\n      <td>0.251124</td>\n      <td>0.115273</td>\n      <td>0.261224</td>\n      <td>0.247347</td>\n      <td>0.273469</td>\n      <td>0.252225</td>\n      <td>34.725453</td>\n      <td>1309.612887</td>\n      <td>0.981997</td>\n      <td>0.842936</td>\n      <td>0.280000</td>\n      <td>0.251124</td>\n      <td>0.237636</td>\n      <td>0.204082</td>\n      <td>0.279114</td>\n      <td>2.957682</td>\n      <td>0.458984</td>\n      <td>21.867188</td>\n      <td>21.843750</td>\n      <td>0.932374</td>\n    </tr>\n  </tbody>\n</table>\n</div>"
     },
     "execution_count": 14,
     "metadata": {},
     "output_type": "execute_result"
    }
   ],
   "source": [
    "voice_data.describe()"
   ],
   "metadata": {
    "collapsed": false
   }
  },
  {
   "cell_type": "markdown",
   "source": [
    "## Understanding the data\n",
    "\n",
    "This dataset includes 3,168 records with 21 variables that measure various acoustic properties of voices and their gender. The variables are as follows:\n",
    "\n",
    "* `meanfreq`: mean frequency (in kHz)\n",
    "* `sd`: standard deviation of frequency\n",
    "* `median`: median frequency (in kHz)\n",
    "* `Q25`: first quantile (in kHz)\n",
    "* `Q75`: third quantile (in kHz)\n",
    "* `IQR`: inter-quantile range (in kHz)\n",
    "* `skew`: skewness\n",
    "* `kurt`: kurtosis\n",
    "* `sp.ent`: spectral entropy\n",
    "* `sfm`: spectral flatness\n",
    "* `mode`: mode frequency\n",
    "* `centroid`: frequency centroid (see `specprop`)\n",
    "* `peakf`: peak frequency (frequency with the highest energy)\n",
    "* `meanfun`: average of fundamental frequency measured across acoustic signal\n",
    "* `minfun`: minimum fundamental frequency measured across acoustic signal\n",
    "* `maxfun`: maximum fundamental frequency measured across acoustic signal\n",
    "* `meandom`: average of dominant frequency measured across acoustic signal\n",
    "* `mindom`: minimum of dominant frequency measured across acoustic signal\n",
    "* `maxdom`: maximum of dominant frequency measured across acoustic signal\n",
    "* `dfrange`: range of dominant frequency measured across acoustic signal\n",
    "* `modindx`: modulation index. Calculated as the accumulated absolute difference between adjacent measurements of fundamental frequencies divided by the frequency range\n",
    "label: male or female\n",
    "\n",
    "### Skewness and Kurtosis\n",
    "\n",
    "Skewness and kurtosis are used to measure the asymmetry and shape of the frequency distribution.\n",
    "\n",
    "Skewness ($S$) is calculated using the formula:\n",
    "\n",
    "$$\n",
    "S = \\frac{1}{n - 1}\\cdot\\frac{\\sum_{i=1}^n{\\left(x - \\overline{x}\\right)^3}}{\\sigma^3}\n",
    "$$\n",
    "\n",
    "where $n$ is the number of observations, $\\overline{x}$ is the mean, and $\\sigma$ is the standard deviation. A negative skewness value indicates that the spectrum is skewed to the left, a value of 0 indicates a symmetrical spectrum, and a positive value indicates that the spectrum is skewed to the right.\n",
    "\n",
    "Kurtosis ($K$) is calculated using the formula:\n",
    "\n",
    "$$\n",
    "K = \\frac{1}{n - 1}\\cdot\\frac{\\sum_{i=1}^n{\\left(x - \\overline{x}\\right)^4}}{\\sigma^4}\n",
    "$$\n",
    "\n",
    "A value of less than 3 indicates a platykurtic distribution, which has fewer observations in the center and tails than the normal distribution but more in the shoulders. A value of 3 indicates a normal distribution, while a value greater than 3 indicates a leptokurtic distribution, which has more observations in the center and tails and fewer in the shoulders relative to a normal distribution with the same mean and variance.\n",
    "\n",
    "### Flatness\n",
    "\n",
    "The spectral flatness is a measure of the spectral shape of a signal. It is defined as the ratio of the geometric mean to the arithmetic mean of the signal's power spectrum:\n",
    "$$\n",
    "F = \\frac{\\sqrt[n]{\\prod_{i=1}^n{p_i}}}{\\frac{1}{n}\\sum_{i=1}^n{p_i}}\n",
    "$$\n",
    "where $n$ is the number of frequency bins, $p_i$ is the power in the $i$-th frequency bin, and $F$ is the spectral flatness.\n",
    "\n",
    "The greater $F$ is, the more flat the spectrum is."
   ],
   "metadata": {
    "collapsed": false
   }
  },
  {
   "cell_type": "markdown",
   "source": [
    "## Reference\n",
    "\n",
    "* [Data Set from Kaggle](https://www.kaggle.com/datasets/primaryobjects/voicegender)\n",
    "* [`seeware` R package document](https://cran.r-project.org/web/packages/seewave/seewave.pdf)\n",
    "* [`WarbleR` R package document](https://cran.r-project.org/web/packages/warbleR/warbleR.pdf)"
   ],
   "metadata": {
    "collapsed": false
   }
  },
  {
   "cell_type": "markdown",
   "source": [],
   "metadata": {
    "collapsed": false
   }
  }
 ],
 "metadata": {
  "kernelspec": {
   "display_name": "Python 3",
   "language": "python",
   "name": "python3"
  },
  "language_info": {
   "codemirror_mode": {
    "name": "ipython",
    "version": 2
   },
   "file_extension": ".py",
   "mimetype": "text/x-python",
   "name": "python",
   "nbconvert_exporter": "python",
   "pygments_lexer": "ipython2",
   "version": "2.7.6"
  }
 },
 "nbformat": 4,
 "nbformat_minor": 0
}
